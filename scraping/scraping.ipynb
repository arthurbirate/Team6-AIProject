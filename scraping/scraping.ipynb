{
 "cells": [
  {
   "cell_type": "code",
   "execution_count": 99,
   "id": "initial_id",
   "metadata": {
    "ExecuteTime": {
     "end_time": "2023-11-06T15:33:39.624263Z",
     "start_time": "2023-11-06T15:33:39.549204Z"
    },
    "collapsed": true
   },
   "outputs": [
    {
     "name": "stdout",
     "output_type": "stream",
     "text": [
      "Requirement already satisfied: requests in /Users/birate/Documents/AI_Project/Team6-AIProject/.venv/lib/python3.10/site-packages (2.31.0)\n",
      "Requirement already satisfied: charset-normalizer<4,>=2 in /Users/birate/Documents/AI_Project/Team6-AIProject/.venv/lib/python3.10/site-packages (from requests) (3.3.2)\n",
      "Requirement already satisfied: idna<4,>=2.5 in /Users/birate/Documents/AI_Project/Team6-AIProject/.venv/lib/python3.10/site-packages (from requests) (3.4)\n",
      "Requirement already satisfied: urllib3<3,>=1.21.1 in /Users/birate/Documents/AI_Project/Team6-AIProject/.venv/lib/python3.10/site-packages (from requests) (2.0.7)\n",
      "Requirement already satisfied: certifi>=2017.4.17 in /Users/birate/Documents/AI_Project/Team6-AIProject/.venv/lib/python3.10/site-packages (from requests) (2023.7.22)\n",
      "Requirement already satisfied: beautifulsoup4 in /Users/birate/Documents/AI_Project/Team6-AIProject/.venv/lib/python3.10/site-packages (4.12.2)\n",
      "Requirement already satisfied: soupsieve>1.2 in /Users/birate/Documents/AI_Project/Team6-AIProject/.venv/lib/python3.10/site-packages (from beautifulsoup4) (2.5)\n",
      "Requirement already satisfied: lxml in /Users/birate/Documents/AI_Project/Team6-AIProject/.venv/lib/python3.10/site-packages (4.9.3)\n"
     ]
    }
   ],
   "source": [
    "!pip3 install requests\n",
    "!pip3 install beautifulsoup4\n"
   ]
  },
  {
   "cell_type": "code",
   "execution_count": 6,
   "metadata": {},
   "outputs": [],
   "source": [
    "import requests\n",
    "from bs4 import BeautifulSoup\n",
    "import os"
   ]
  },
  {
   "cell_type": "code",
   "execution_count": 99,
   "id": "8bde93acba2ace5a",
   "metadata": {
    "ExecuteTime": {
     "end_time": "2023-11-06T21:05:03.799794Z",
     "start_time": "2023-11-06T21:05:02.987348Z"
    },
    "collapsed": false
   },
   "outputs": [],
   "source": [
    "def image_scrapper(base_url,limit_page, prefix=None ,primary_html_tag=None, primary_selector=None, primary_class_name=None,\n",
    "                   secondary_html_tag=None, secondary_selector=None, \n",
    "                   secondary_class_name=None,output_folder=None, custom_data=None, max_counter=None):\n",
    "    \n",
    "\n",
    "    for number_page in range(1,limit_page):\n",
    "    \n",
    "        url=f\"{base_url}{prefix}page={number_page}\"\n",
    "\n",
    "        get_sites = requests.get(url)  \n",
    "\n",
    "\n",
    "        if not os.path.exists(output_folder):\n",
    "            os.mkdir(output_folder)\n",
    "            \n",
    "        soup = BeautifulSoup(get_sites.content, 'html.parser')\n",
    "\n",
    "        get_container = soup.find(primary_html_tag,{primary_selector:primary_class_name})\n",
    "     \n",
    "        get_images_tags =  get_container.find_all(secondary_html_tag,{secondary_selector:secondary_class_name})\n",
    "\n",
    "        images = []\n",
    "        images.append(len(get_images_tags))\n",
    "        print(len(get_images_tags))\n",
    "\n",
    "       \n",
    "        for i, image in  enumerate(get_images_tags):                      \n",
    "\n",
    "                img = image[\"src\"]\n",
    "\n",
    "                part = img.split('.svg')[0]\n",
    "\n",
    "                format_img = \"{}.jpeg\".format(part)\n",
    "                flag = requests.get(format_img)\n",
    "                with open(f\"{output_folder}/{custom_data}{number_page}_{i}.jpeg\", 'ab') as file:\n",
    "                    file.write(flag.content)\n"
   ]
  },
  {
   "cell_type": "code",
   "execution_count": 98,
   "metadata": {},
   "outputs": [
    {
     "name": "stdout",
     "output_type": "stream",
     "text": [
      "100\n",
      "100\n",
      "100\n",
      "100\n",
      "100\n",
      "100\n",
      "100\n",
      "100\n",
      "100\n",
      "100\n",
      "100\n",
      "100\n",
      "100\n",
      "100\n",
      "100\n",
      "100\n",
      "You have 100 in total.\n"
     ]
    }
   ],
   "source": [
    "## Scrapping images of bees from vista.com \n",
    "site_url = \"https://create.vista.com/photos/bees/\"\n",
    "limit_page = 17\n",
    "prefix = \"?\"\n",
    "primary_html_tag = \"div\"\n",
    "primary_selector = \"class\"\n",
    "primary_class_name = \"assetsListWrapper-oDy7b\"\n",
    "secondary_html_tag=\"img\"\n",
    "secondary_selector=\"class\"\n",
    "secondary_class_name=\"media-3IiMe\"\n",
    "output_folder=\"bees\"\n",
    "custom_data=\"bee\"\n",
    "\n",
    "\n",
    "\n",
    "bees = image_scrapper(site_url ,limit_page,prefix,primary_html_tag,primary_selector,primary_class_name,\n",
    "             secondary_html_tag ,secondary_selector,secondary_class_name,output_folder,custom_data)"
   ]
  },
  {
   "cell_type": "code",
   "execution_count": 86,
   "metadata": {},
   "outputs": [
    {
     "ename": "AttributeError",
     "evalue": "'NoneType' object has no attribute 'find_all'",
     "output_type": "error",
     "traceback": [
      "\u001b[0;31m---------------------------------------------------------------------------\u001b[0m",
      "\u001b[0;31mAttributeError\u001b[0m                            Traceback (most recent call last)",
      "\u001b[1;32m/Users/birate/Documents/AI_Project/Team6-AIProject/scraping/scraping.ipynb Cell 5\u001b[0m line \u001b[0;36m1\n\u001b[1;32m     <a href='vscode-notebook-cell:/Users/birate/Documents/AI_Project/Team6-AIProject/scraping/scraping.ipynb#X13sZmlsZQ%3D%3D?line=10'>11</a>\u001b[0m output_folder\u001b[39m=\u001b[39m\u001b[39m\"\u001b[39m\u001b[39mbees\u001b[39m\u001b[39m\"\u001b[39m\n\u001b[1;32m     <a href='vscode-notebook-cell:/Users/birate/Documents/AI_Project/Team6-AIProject/scraping/scraping.ipynb#X13sZmlsZQ%3D%3D?line=11'>12</a>\u001b[0m custom_data\u001b[39m=\u001b[39m\u001b[39m\"\u001b[39m\u001b[39mshutterStock_bee\u001b[39m\u001b[39m\"\u001b[39m\n\u001b[0;32m---> <a href='vscode-notebook-cell:/Users/birate/Documents/AI_Project/Team6-AIProject/scraping/scraping.ipynb#X13sZmlsZQ%3D%3D?line=15'>16</a>\u001b[0m bees \u001b[39m=\u001b[39m image_scrapper(site_url ,limit_page,primary_html_tag,primary_selector,primary_class_name,\n\u001b[1;32m     <a href='vscode-notebook-cell:/Users/birate/Documents/AI_Project/Team6-AIProject/scraping/scraping.ipynb#X13sZmlsZQ%3D%3D?line=16'>17</a>\u001b[0m              secondary_html_tag ,secondary_selector,secondary_class_name,output_folder,custom_data)\n",
      "\u001b[1;32m/Users/birate/Documents/AI_Project/Team6-AIProject/scraping/scraping.ipynb Cell 5\u001b[0m line \u001b[0;36m2\n\u001b[1;32m     <a href='vscode-notebook-cell:/Users/birate/Documents/AI_Project/Team6-AIProject/scraping/scraping.ipynb#X13sZmlsZQ%3D%3D?line=15'>16</a>\u001b[0m soup \u001b[39m=\u001b[39m BeautifulSoup(get_sites\u001b[39m.\u001b[39mcontent, \u001b[39m'\u001b[39m\u001b[39mhtml.parser\u001b[39m\u001b[39m'\u001b[39m)\n\u001b[1;32m     <a href='vscode-notebook-cell:/Users/birate/Documents/AI_Project/Team6-AIProject/scraping/scraping.ipynb#X13sZmlsZQ%3D%3D?line=17'>18</a>\u001b[0m get_container \u001b[39m=\u001b[39m soup\u001b[39m.\u001b[39mfind(primary_html_tag,{primary_selector:primary_class_name})\n\u001b[0;32m---> <a href='vscode-notebook-cell:/Users/birate/Documents/AI_Project/Team6-AIProject/scraping/scraping.ipynb#X13sZmlsZQ%3D%3D?line=19'>20</a>\u001b[0m get_images_tags \u001b[39m=\u001b[39m  get_container\u001b[39m.\u001b[39;49mfind_all(secondary_html_tag,{secondary_selector:secondary_class_name})\n\u001b[1;32m     <a href='vscode-notebook-cell:/Users/birate/Documents/AI_Project/Team6-AIProject/scraping/scraping.ipynb#X13sZmlsZQ%3D%3D?line=20'>21</a>\u001b[0m \u001b[39mprint\u001b[39m(\u001b[39mlen\u001b[39m(get_images_tags))\n",
      "\u001b[0;31mAttributeError\u001b[0m: 'NoneType' object has no attribute 'find_all'"
     ]
    }
   ],
   "source": [
    "\n"
   ]
  }
 ],
 "metadata": {
  "kernelspec": {
   "display_name": "Python 3",
   "language": "python",
   "name": "python3"
  },
  "language_info": {
   "codemirror_mode": {
    "name": "ipython",
    "version": 3
   },
   "file_extension": ".py",
   "mimetype": "text/x-python",
   "name": "python",
   "nbconvert_exporter": "python",
   "pygments_lexer": "ipython3",
   "version": "3.10.13"
  }
 },
 "nbformat": 4,
 "nbformat_minor": 5
}
